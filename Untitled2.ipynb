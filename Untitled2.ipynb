{
  "nbformat": 4,
  "nbformat_minor": 0,
  "metadata": {
    "colab": {
      "provenance": [],
      "authorship_tag": "ABX9TyMebn0eh+s9qzbCuBXMFjmD",
      "include_colab_link": true
    },
    "kernelspec": {
      "name": "python3",
      "display_name": "Python 3"
    },
    "language_info": {
      "name": "python"
    }
  },
  "cells": [
    {
      "cell_type": "markdown",
      "metadata": {
        "id": "view-in-github",
        "colab_type": "text"
      },
      "source": [
        "<a href=\"https://colab.research.google.com/github/jeftbiker/colabAnnalitica/blob/main/Untitled2.ipynb\" target=\"_parent\"><img src=\"https://colab.research.google.com/assets/colab-badge.svg\" alt=\"Open In Colab\"/></a>"
      ]
    },
    {
      "cell_type": "code",
      "execution_count": null,
      "metadata": {
        "id": "nsu90oY_vIs-",
        "colab": {
          "base_uri": "https://localhost:8080/"
        },
        "outputId": "47acecaa-aa9e-4c3d-ea16-6e6fed444316"
      },
      "outputs": [
        {
          "output_type": "stream",
          "name": "stdout",
          "text": [
            "First Vector          : [1 2 3]\n",
            "Second Vector         : [10 20 30]\n",
            "Addition of two vectors: [11 22 33]\n",
            "Subtraction of two vectors: [ -9 -18 -27]\n",
            "Multiplication of two vectors: [10 40 90]\n",
            "Division of two vectors: [0.1 0.1 0.1]\n"
          ]
        }
      ],
      "source": [
        "import numpy as np\n",
        "\n",
        "# creating a 1-D list (Horizontal)\n",
        "list1 = [1, 2, 3]\n",
        "\n",
        "# creating a 1-D list (Vertical)\n",
        "list2 = [10,20,30]\n",
        "\n",
        "\n",
        "vector1 = np.array(list1)\n",
        "\n",
        "print(\"First Vector          : \" + str(vector1))\n",
        "\n",
        "vector2 = np.array(list2)\n",
        "\n",
        "print(\"Second Vector         : \" + str(vector2))\n",
        "\n",
        "adicion = vector1 + vector2\n",
        "\n",
        "print(\"Addition of two vectors: \" + str(adicion))\n",
        "\n",
        "resta = vector1 - vector2\n",
        "\n",
        "print(\"Subtraction of two vectors: \" + str(resta))\n",
        "\n",
        "multiplicacion = vector1 * vector2\n",
        "\n",
        "print(\"Multiplication of two vectors: \" + str(multiplicacion))\n",
        "\n",
        "division = vector1 / vector2\n",
        "\n",
        "print(\"Division of two vectors: \" + str(division))\n",
        "\n"
      ]
    },
    {
      "cell_type": "code",
      "source": [
        "import numpy as np\n",
        "\n",
        "# creating a 1-D list (Horizontal)\n",
        "list1 = [1,0 ,0 ]\n",
        "\n",
        "# creating a 1-D list (Horizontal)\n",
        "list2 = [0, 1, 0]\n",
        "\n",
        "# creating first vector\n",
        "vector1 = np.array(list1)\n",
        "\n",
        "# printing vector1\n",
        "print(\"First Vector  : \" + str(vector1))\n",
        "\n",
        "# creating second vector\n",
        "vector2 = np.array(list2)\n",
        "\n",
        "# printing vector2\n",
        "print(\"Second Vector : \" + str(vector2))\n",
        "\n",
        "producto_punto = vector1.dot(vector2)\n",
        "\n",
        "if (producto_punto == 0):\n",
        "  print(\"The vectors are orthogonal\")\n",
        "else:\n",
        "  print(\"The vectors are not orthogonal\")\n",
        "\n",
        "print(\"Dot Product   : \" + str(producto_punto))\n"
      ],
      "metadata": {
        "colab": {
          "base_uri": "https://localhost:8080/"
        },
        "id": "-ovihz5dgl1_",
        "outputId": "751e61ca-0d16-4d7a-b9fb-9743ccaba80b"
      },
      "execution_count": null,
      "outputs": [
        {
          "output_type": "stream",
          "name": "stdout",
          "text": [
            "First Vector  : [1 0 0]\n",
            "Second Vector : [0 1 0]\n",
            "The vectors are orthogonal\n",
            "Dot Product   : 0\n"
          ]
        }
      ]
    },
    {
      "cell_type": "code",
      "source": [
        "import numpy as np\n",
        "\n",
        "list1 = [1, 2, 3, 4, 6, 7, 8, 9,10]\n",
        "\n",
        "# creating first vector\n",
        "vector = np.array(list1)\n",
        "\n",
        "# printing vector1\n",
        "print(\"Vector  : \" + str(vector))\n",
        "\n",
        "# scalar value\n",
        "scalar = 5\n",
        "\n",
        "# printing scalar value\n",
        "print(\"Scalar  : \" + str(scalar))\n",
        "\n",
        "scalar_mul = vector * scalar\n",
        "\n",
        "print(\"Scalar Multiplication : \" + str(scalar_mul))"
      ],
      "metadata": {
        "colab": {
          "base_uri": "https://localhost:8080/"
        },
        "id": "kS0gGXfGisho",
        "outputId": "7df99ae6-90fb-41ed-cd43-09b63e98ff57"
      },
      "execution_count": null,
      "outputs": [
        {
          "output_type": "stream",
          "name": "stdout",
          "text": [
            "Vector  : [ 1  2  3  4  6  7  8  9 10]\n",
            "Scalar  : 5\n",
            "Scalar Multiplication : [ 5 10 15 20 30 35 40 45 50]\n"
          ]
        }
      ]
    },
    {
      "cell_type": "code",
      "source": [
        "import numpy as np\n",
        "\n",
        "arr = np.arange(0,20, 3)\n",
        "\n",
        "filtrado = arr[arr > 10]\n",
        "print(filtrado)"
      ],
      "metadata": {
        "colab": {
          "base_uri": "https://localhost:8080/"
        },
        "id": "3izzebZhkETD",
        "outputId": "ae70a995-4724-4f04-e717-3ebac6643870"
      },
      "execution_count": null,
      "outputs": [
        {
          "output_type": "stream",
          "name": "stdout",
          "text": [
            "[12 15 18]\n"
          ]
        }
      ]
    },
    {
      "cell_type": "code",
      "source": [
        "import numpy as np\n",
        "\n",
        "arr = np.array(['banana', 'cherry', 'apple'])\n",
        "\n",
        "print(np.sort(arr))"
      ],
      "metadata": {
        "colab": {
          "base_uri": "https://localhost:8080/"
        },
        "id": "MouH-bKTmks7",
        "outputId": "8974e595-9d63-4341-c9e1-f4f80f7ed445"
      },
      "execution_count": null,
      "outputs": [
        {
          "output_type": "stream",
          "name": "stdout",
          "text": [
            "['apple' 'banana' 'cherry']\n"
          ]
        }
      ]
    }
  ]
}